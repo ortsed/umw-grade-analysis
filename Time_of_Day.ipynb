{
 "cells": [
  {
   "cell_type": "markdown",
   "metadata": {},
   "source": [
    "## University of Wisconsin at Madison Examination of Grade Distributions "
   ]
  },
  {
   "cell_type": "markdown",
   "metadata": {},
   "source": [
    "2. Did large classes (more than 32 students, which is the 75th percentile of enrollment) had different grade distribution than smaller classes, "
   ]
  },
  {
   "cell_type": "markdown",
   "metadata": {},
   "source": [
    "### Load the data and needed libraries"
   ]
  },
  {
   "cell_type": "code",
   "execution_count": 148,
   "metadata": {},
   "outputs": [],
   "source": [
    "import numpy as np\n",
    "import pandas as pd\n",
    "import matplotlib.pyplot as plt\n",
    "%matplotlib inline\n",
    "import seaborn as sns\n",
    "import sqlite3\n",
    "from scipy.stats import ttest_ind\n",
    "import scipy.stats as stats"
   ]
  },
  {
   "cell_type": "code",
   "execution_count": 149,
   "metadata": {},
   "outputs": [],
   "source": [
    "conn = sqlite3.connect('uw-madison-courses/database.sqlite3')"
   ]
  },
  {
   "cell_type": "code",
   "execution_count": 150,
   "metadata": {},
   "outputs": [
    {
     "data": {
      "text/plain": [
       "[('sections',),\n",
       " ('instructors',),\n",
       " ('course_offerings',),\n",
       " ('subject_memberships',),\n",
       " ('courses',),\n",
       " ('rooms',),\n",
       " ('teachings',),\n",
       " ('subjects',),\n",
       " ('schedules',),\n",
       " ('grade_distributions',),\n",
       " ('terms',)]"
      ]
     },
     "execution_count": 150,
     "metadata": {},
     "output_type": "execute_result"
    }
   ],
   "source": [
    "c = conn.cursor()\n",
    "c.execute(\"\"\"SELECT name FROM sqlite_master WHERE type='table' AND name NOT LIKE \"sqlite%\";\"\"\").fetchall()\n"
   ]
  },
  {
   "cell_type": "code",
   "execution_count": 151,
   "metadata": {},
   "outputs": [
    {
     "data": {
      "text/plain": [
       "[(0, 'uuid', 'TEXT', 0, None, 0),\n",
       " (1, 'start_time', 'TEXT', 0, None, 0),\n",
       " (2, 'end_time', 'TEXT', 0, None, 0),\n",
       " (3, 'mon', 'TEXT', 0, None, 0),\n",
       " (4, 'tues', 'TEXT', 0, None, 0),\n",
       " (5, 'wed', 'TEXT', 0, None, 0),\n",
       " (6, 'thurs', 'TEXT', 0, None, 0),\n",
       " (7, 'fri', 'TEXT', 0, None, 0),\n",
       " (8, 'sat', 'TEXT', 0, None, 0),\n",
       " (9, 'sun', 'TEXT', 0, None, 0)]"
      ]
     },
     "execution_count": 151,
     "metadata": {},
     "output_type": "execute_result"
    }
   ],
   "source": [
    "c.execute('PRAGMA table_info(schedules)').fetchall()"
   ]
  },
  {
   "cell_type": "code",
   "execution_count": 152,
   "metadata": {},
   "outputs": [
    {
     "data": {
      "text/plain": [
       "[(0, 'uuid', 'TEXT', 0, None, 0),\n",
       " (1, 'course_uuid', 'TEXT', 0, None, 0),\n",
       " (2, 'term_code', 'TEXT', 0, None, 0),\n",
       " (3, 'name', 'TEXT', 0, None, 0)]"
      ]
     },
     "execution_count": 152,
     "metadata": {},
     "output_type": "execute_result"
    }
   ],
   "source": [
    "c.execute('PRAGMA table_info(course_offerings)').fetchall()"
   ]
  },
  {
   "cell_type": "code",
   "execution_count": 153,
   "metadata": {},
   "outputs": [
    {
     "data": {
      "text/plain": [
       "[(0, 'uuid', 'TEXT', 0, None, 0),\n",
       " (1, 'course_offering_uuid', 'TEXT', 0, None, 0),\n",
       " (2, 'section_type', 'TEXT', 0, None, 0),\n",
       " (3, 'number', 'TEXT', 0, None, 0),\n",
       " (4, 'room_uuid', 'TEXT', 0, None, 0),\n",
       " (5, 'schedule_uuid', 'TEXT', 0, None, 0)]"
      ]
     },
     "execution_count": 153,
     "metadata": {},
     "output_type": "execute_result"
    }
   ],
   "source": [
    "c.execute('PRAGMA table_info(sections)').fetchall()"
   ]
  },
  {
   "cell_type": "code",
   "execution_count": 154,
   "metadata": {},
   "outputs": [
    {
     "data": {
      "text/html": [
       "<div>\n",
       "<style scoped>\n",
       "    .dataframe tbody tr th:only-of-type {\n",
       "        vertical-align: middle;\n",
       "    }\n",
       "\n",
       "    .dataframe tbody tr th {\n",
       "        vertical-align: top;\n",
       "    }\n",
       "\n",
       "    .dataframe thead th {\n",
       "        text-align: right;\n",
       "    }\n",
       "</style>\n",
       "<table border=\"1\" class=\"dataframe\">\n",
       "  <thead>\n",
       "    <tr style=\"text-align: right;\">\n",
       "      <th></th>\n",
       "      <th>course_offering_uuid</th>\n",
       "      <th>section_number</th>\n",
       "      <th>n_count</th>\n",
       "      <th>c_count</th>\n",
       "      <th>f_count</th>\n",
       "      <th>cr_count</th>\n",
       "      <th>p_count</th>\n",
       "      <th>nw_count</th>\n",
       "      <th>other_count</th>\n",
       "      <th>bc_count</th>\n",
       "      <th>...</th>\n",
       "      <th>uuid</th>\n",
       "      <th>start_time</th>\n",
       "      <th>end_time</th>\n",
       "      <th>mon</th>\n",
       "      <th>tues</th>\n",
       "      <th>wed</th>\n",
       "      <th>thurs</th>\n",
       "      <th>fri</th>\n",
       "      <th>sat</th>\n",
       "      <th>sun</th>\n",
       "    </tr>\n",
       "  </thead>\n",
       "  <tbody>\n",
       "    <tr>\n",
       "      <th>0</th>\n",
       "      <td>344b3ebe-da7e-314c-83ed-9425269695fd</td>\n",
       "      <td>1</td>\n",
       "      <td>0</td>\n",
       "      <td>0</td>\n",
       "      <td>0</td>\n",
       "      <td>0</td>\n",
       "      <td>0</td>\n",
       "      <td>0</td>\n",
       "      <td>0</td>\n",
       "      <td>0</td>\n",
       "      <td>...</td>\n",
       "      <td>f2d66a4d-0c08-3b48-abf6-649fffd7ae90</td>\n",
       "      <td>-1</td>\n",
       "      <td>-1</td>\n",
       "      <td>false</td>\n",
       "      <td>false</td>\n",
       "      <td>false</td>\n",
       "      <td>false</td>\n",
       "      <td>false</td>\n",
       "      <td>false</td>\n",
       "      <td>false</td>\n",
       "    </tr>\n",
       "    <tr>\n",
       "      <th>1</th>\n",
       "      <td>f718e6cd-33f0-3c14-a9a6-834d9c3610a8</td>\n",
       "      <td>1</td>\n",
       "      <td>0</td>\n",
       "      <td>0</td>\n",
       "      <td>0</td>\n",
       "      <td>0</td>\n",
       "      <td>0</td>\n",
       "      <td>0</td>\n",
       "      <td>0</td>\n",
       "      <td>0</td>\n",
       "      <td>...</td>\n",
       "      <td>f2d66a4d-0c08-3b48-abf6-649fffd7ae90</td>\n",
       "      <td>-1</td>\n",
       "      <td>-1</td>\n",
       "      <td>false</td>\n",
       "      <td>false</td>\n",
       "      <td>false</td>\n",
       "      <td>false</td>\n",
       "      <td>false</td>\n",
       "      <td>false</td>\n",
       "      <td>false</td>\n",
       "    </tr>\n",
       "    <tr>\n",
       "      <th>2</th>\n",
       "      <td>ea3b717c-d66b-30dc-8b37-964d9688295f</td>\n",
       "      <td>1</td>\n",
       "      <td>0</td>\n",
       "      <td>3</td>\n",
       "      <td>0</td>\n",
       "      <td>0</td>\n",
       "      <td>0</td>\n",
       "      <td>0</td>\n",
       "      <td>0</td>\n",
       "      <td>0</td>\n",
       "      <td>...</td>\n",
       "      <td>f2d66a4d-0c08-3b48-abf6-649fffd7ae90</td>\n",
       "      <td>-1</td>\n",
       "      <td>-1</td>\n",
       "      <td>false</td>\n",
       "      <td>false</td>\n",
       "      <td>false</td>\n",
       "      <td>false</td>\n",
       "      <td>false</td>\n",
       "      <td>false</td>\n",
       "      <td>false</td>\n",
       "    </tr>\n",
       "    <tr>\n",
       "      <th>3</th>\n",
       "      <td>ea3b717c-d66b-30dc-8b37-964d9688295f</td>\n",
       "      <td>1</td>\n",
       "      <td>0</td>\n",
       "      <td>3</td>\n",
       "      <td>0</td>\n",
       "      <td>0</td>\n",
       "      <td>0</td>\n",
       "      <td>0</td>\n",
       "      <td>0</td>\n",
       "      <td>0</td>\n",
       "      <td>...</td>\n",
       "      <td>f2d66a4d-0c08-3b48-abf6-649fffd7ae90</td>\n",
       "      <td>-1</td>\n",
       "      <td>-1</td>\n",
       "      <td>false</td>\n",
       "      <td>false</td>\n",
       "      <td>false</td>\n",
       "      <td>false</td>\n",
       "      <td>false</td>\n",
       "      <td>false</td>\n",
       "      <td>false</td>\n",
       "    </tr>\n",
       "    <tr>\n",
       "      <th>4</th>\n",
       "      <td>ea3b717c-d66b-30dc-8b37-964d9688295f</td>\n",
       "      <td>1</td>\n",
       "      <td>0</td>\n",
       "      <td>3</td>\n",
       "      <td>0</td>\n",
       "      <td>0</td>\n",
       "      <td>0</td>\n",
       "      <td>0</td>\n",
       "      <td>0</td>\n",
       "      <td>0</td>\n",
       "      <td>...</td>\n",
       "      <td>f2d66a4d-0c08-3b48-abf6-649fffd7ae90</td>\n",
       "      <td>-1</td>\n",
       "      <td>-1</td>\n",
       "      <td>false</td>\n",
       "      <td>false</td>\n",
       "      <td>false</td>\n",
       "      <td>false</td>\n",
       "      <td>false</td>\n",
       "      <td>false</td>\n",
       "      <td>false</td>\n",
       "    </tr>\n",
       "  </tbody>\n",
       "</table>\n",
       "<p>5 rows × 38 columns</p>\n",
       "</div>"
      ],
      "text/plain": [
       "                   course_offering_uuid section_number n_count c_count  \\\n",
       "0  344b3ebe-da7e-314c-83ed-9425269695fd              1       0       0   \n",
       "1  f718e6cd-33f0-3c14-a9a6-834d9c3610a8              1       0       0   \n",
       "2  ea3b717c-d66b-30dc-8b37-964d9688295f              1       0       3   \n",
       "3  ea3b717c-d66b-30dc-8b37-964d9688295f              1       0       3   \n",
       "4  ea3b717c-d66b-30dc-8b37-964d9688295f              1       0       3   \n",
       "\n",
       "  f_count cr_count p_count nw_count other_count bc_count  ...  \\\n",
       "0       0        0       0        0           0        0  ...   \n",
       "1       0        0       0        0           0        0  ...   \n",
       "2       0        0       0        0           0        0  ...   \n",
       "3       0        0       0        0           0        0  ...   \n",
       "4       0        0       0        0           0        0  ...   \n",
       "\n",
       "                                   uuid start_time end_time    mon   tues  \\\n",
       "0  f2d66a4d-0c08-3b48-abf6-649fffd7ae90         -1       -1  false  false   \n",
       "1  f2d66a4d-0c08-3b48-abf6-649fffd7ae90         -1       -1  false  false   \n",
       "2  f2d66a4d-0c08-3b48-abf6-649fffd7ae90         -1       -1  false  false   \n",
       "3  f2d66a4d-0c08-3b48-abf6-649fffd7ae90         -1       -1  false  false   \n",
       "4  f2d66a4d-0c08-3b48-abf6-649fffd7ae90         -1       -1  false  false   \n",
       "\n",
       "     wed  thurs    fri    sat    sun  \n",
       "0  false  false  false  false  false  \n",
       "1  false  false  false  false  false  \n",
       "2  false  false  false  false  false  \n",
       "3  false  false  false  false  false  \n",
       "4  false  false  false  false  false  \n",
       "\n",
       "[5 rows x 38 columns]"
      ]
     },
     "execution_count": 154,
     "metadata": {},
     "output_type": "execute_result"
    }
   ],
   "source": [
    "df = pd.DataFrame(c.execute(\"\"\"\n",
    "SELECT * FROM grade_distributions AS gd, course_offerings AS co,\n",
    "sections s, schedules sch\n",
    "WHERE co.uuid = gd.course_offering_uuid\n",
    "and s.course_offering_uuid = co.uuid\n",
    "and sch.uuid = s.schedule_uuid\n",
    ";\"\"\").fetchall())\n",
    "df.columns = [i[0] for i in c.description]\n",
    "df.head()"
   ]
  },
  {
   "cell_type": "code",
   "execution_count": 155,
   "metadata": {
    "scrolled": true
   },
   "outputs": [
    {
     "data": {
      "text/plain": [
       "Index(['course_offering_uuid', 'section_number', 'n_count', 'c_count',\n",
       "       'f_count', 'cr_count', 'p_count', 'nw_count', 'other_count', 'bc_count',\n",
       "       'u_count', 'd_count', 'ab_count', 'a_count', 's_count', 'i_count',\n",
       "       'b_count', 'nr_count', 'uuid', 'course_uuid', 'term_code', 'name',\n",
       "       'uuid', 'course_offering_uuid', 'section_type', 'number', 'room_uuid',\n",
       "       'schedule_uuid', 'uuid', 'start_time', 'end_time', 'mon', 'tues', 'wed',\n",
       "       'thurs', 'fri', 'sat', 'sun'],\n",
       "      dtype='object')"
      ]
     },
     "execution_count": 155,
     "metadata": {},
     "output_type": "execute_result"
    }
   ],
   "source": [
    "df.columns"
   ]
  },
  {
   "cell_type": "markdown",
   "metadata": {},
   "source": [
    "### Exploratory Data Analysis of Question 2 - Do early classes have different grade distributions"
   ]
  },
  {
   "cell_type": "code",
   "execution_count": 156,
   "metadata": {},
   "outputs": [],
   "source": [
    "#Class grade counts were saved as text, converted to numbers\n",
    "df[['n_count', 'c_count', 'f_count', 'cr_count', 'p_count', 'nw_count', 'other_count', 'bc_count', 'u_count', 'd_count', 'ab_count', 'a_count', 's_count', 'i_count', 'b_count', 'nr_count']] = df[['n_count', 'c_count', 'f_count', 'cr_count', 'p_count', 'nw_count', 'other_count', 'bc_count','u_count', 'd_count', 'ab_count', 'a_count', 's_count', 'i_count',\n",
    "       'b_count', 'nr_count']].astype(int)\n",
    "    "
   ]
  },
  {
   "cell_type": "code",
   "execution_count": 157,
   "metadata": {
    "scrolled": false
   },
   "outputs": [
    {
     "data": {
      "text/plain": [
       "0    105\n",
       "1    158\n",
       "2    156\n",
       "3    156\n",
       "4    156\n",
       "Name: enrollment, dtype: int64"
      ]
     },
     "execution_count": 157,
     "metadata": {},
     "output_type": "execute_result"
    }
   ],
   "source": [
    "#Create class enrollment feature, sum of all grade counts. Excluded all non-grade counts,\n",
    "#(satisfactory, unsatisfactory, credit, no credit, progress, incomplete, and no report)\n",
    "df['enrollment'] = df[['c_count', 'nw_count', 'f_count', 'bc_count', 'd_count', 'ab_count', \n",
    "                       'a_count', 'b_count']].sum(axis = 1)\n",
    "df['enrollment'].head()"
   ]
  },
  {
   "cell_type": "code",
   "execution_count": 158,
   "metadata": {
    "scrolled": true
   },
   "outputs": [
    {
     "data": {
      "text/plain": [
       "0     1320124\n",
       "19      42714\n",
       "13      40997\n",
       "18      39605\n",
       "17      34846\n",
       "Name: enrollment, dtype: int64"
      ]
     },
     "execution_count": 158,
     "metadata": {},
     "output_type": "execute_result"
    }
   ],
   "source": [
    "#More than 100,000 or 52% classes have zero grades, which is the proxy for class enrollment. \n",
    "#The class with the most zero-grades is Research (13,074), and other research/thesis classes \n",
    "#are at the top. The bottom lists more unique classes like Thai Poetry that only have one or two empty classes.\n",
    "\n",
    "df['enrollment'].value_counts().head()"
   ]
  },
  {
   "cell_type": "code",
   "execution_count": 159,
   "metadata": {},
   "outputs": [],
   "source": [
    "df['cum_grade'] = df['a_count'] * 4 + df['ab_count'] * 3.5 + df['b_count'] * 3.0 + df['bc_count'] * 2.5 \\\n",
    "+ df['c_count'] * 2.0 + df['d_count'] * 1 + df['f_count'] * 0\n"
   ]
  },
  {
   "cell_type": "code",
   "execution_count": 160,
   "metadata": {},
   "outputs": [],
   "source": [
    "df['class_gpa'] = df['cum_grade'] / df['enrollment']"
   ]
  },
  {
   "cell_type": "code",
   "execution_count": 161,
   "metadata": {},
   "outputs": [],
   "source": [
    "df['weighted_gpa'] = df['cum_grade'] / (df['enrollment']**2)"
   ]
  },
  {
   "cell_type": "code",
   "execution_count": 162,
   "metadata": {},
   "outputs": [],
   "source": [
    "df[\"start_time\"] = df[\"start_time\"].astype(int)"
   ]
  },
  {
   "cell_type": "code",
   "execution_count": 163,
   "metadata": {},
   "outputs": [],
   "source": [
    "# convert minutes to hours\n",
    "df['start_time_hour'] = round(df[\"start_time\"]/60,2)"
   ]
  },
  {
   "cell_type": "code",
   "execution_count": 164,
   "metadata": {},
   "outputs": [
    {
     "data": {
      "text/plain": [
       "array([-2.000e-02,  8.830e+00,  1.100e+01,  1.333e+01,  1.208e+01,\n",
       "        1.442e+01,  9.920e+00,  1.550e+01,  1.450e+01,  1.733e+01,\n",
       "        1.658e+01,  1.750e+01,  1.600e+01,  1.558e+01,  1.200e+01,\n",
       "        1.900e+01,  1.575e+01,  1.950e+01,  1.850e+01,  2.025e+01])"
      ]
     },
     "execution_count": 164,
     "metadata": {},
     "output_type": "execute_result"
    }
   ],
   "source": [
    "df['start_time_hour'].unique()[0:20]"
   ]
  },
  {
   "cell_type": "code",
   "execution_count": 165,
   "metadata": {},
   "outputs": [],
   "source": [
    "df[\"a_count_pct\"] = df[\"a_count\"]/df[\"enrollment\"]\n",
    "df[\"ab_count_pct\"] = df[\"ab_count\"]/df[\"enrollment\"]\n",
    "df[\"b_count_pct\"] = df[\"b_count\"]/df[\"enrollment\"]\n",
    "df[\"f_count_pct\"] = df[\"f_count\"]/df[\"enrollment\"]"
   ]
  },
  {
   "cell_type": "code",
   "execution_count": 166,
   "metadata": {},
   "outputs": [],
   "source": [
    "# getting rid of some odd (n/a?) values for start time\n",
    "df = df[df[\"start_time\"] !=-1]"
   ]
  },
  {
   "cell_type": "code",
   "execution_count": 167,
   "metadata": {},
   "outputs": [],
   "source": [
    "# removing n/as\n",
    "df = df[df[\"start_time_hour\"].notna()]\n",
    "df = df[df[\"class_gpa\"].notna()]"
   ]
  },
  {
   "cell_type": "code",
   "execution_count": 168,
   "metadata": {},
   "outputs": [],
   "source": [
    "# Early classes are defined as before noon, Late classes after that\n",
    "df_early_class = df[df['start_time_hour'] >= 12]\n",
    "df_late_class = df[(df['start_time_hour'] < 12) ]"
   ]
  },
  {
   "cell_type": "code",
   "execution_count": 169,
   "metadata": {
    "scrolled": true
   },
   "outputs": [
    {
     "data": {
      "text/plain": [
       "<matplotlib.legend.Legend at 0x1b9b63c240>"
      ]
     },
     "execution_count": 169,
     "metadata": {},
     "output_type": "execute_result"
    },
    {
     "data": {
      "image/png": "[encoded data removed]",
      "text/plain": [
       "<Figure size 720x720 with 1 Axes>"
      ]
     },
     "metadata": {
      "needs_background": "light"
     },
     "output_type": "display_data"
    }
   ],
   "source": [
    "# Plot the distributions. They seem to map each other quite well\n",
    "fig = plt.figure(figsize=(10,10))\n",
    "plt.title(\"Distribution of GPAs, Early Classes vs. Late Classes\")\n",
    "sns.distplot(df_early_class['class_gpa'], color = 'blue', label=\"Early Classes\")\n",
    "sns.distplot(df_late_class['class_gpa'], color = 'red', label=\"Late Classes\")\n",
    "plt.legend()"
   ]
  },
  {
   "cell_type": "code",
   "execution_count": 170,
   "metadata": {
    "scrolled": true
   },
   "outputs": [
    {
     "data": {
      "text/plain": [
       "Ttest_indResult(statistic=3.931136880881443, pvalue=8.455395285278649e-05)"
      ]
     },
     "execution_count": 170,
     "metadata": {},
     "output_type": "execute_result"
    }
   ],
   "source": [
    "# T-statistic and p-value\n",
    "ttest_ind(df_early_class['class_gpa'], df_late_class['class_gpa'], equal_var=False)"
   ]
  },
  {
   "cell_type": "code",
   "execution_count": 171,
   "metadata": {},
   "outputs": [
    {
     "data": {
      "text/plain": [
       "2.277801471299478e-08"
      ]
     },
     "execution_count": 171,
     "metadata": {},
     "output_type": "execute_result"
    }
   ],
   "source": [
    "# Manually calculating T instead. This seems more reasonable\n",
    "\n",
    "early = df_early_class['class_gpa']\n",
    "late = df_late_class['class_gpa']\n",
    "\n",
    "def t_calc(x, y):\n",
    "    return (x.mean() - y.mean()) \\\n",
    "/  (len(x) *  np.std(x) + len(y) * np.std(y) \\\n",
    "/  (len(x)  +  len(y)  - 2))\n",
    "t_val = t_calc(early, late)\n",
    "t_val"
   ]
  },
  {
   "cell_type": "code",
   "execution_count": 172,
   "metadata": {},
   "outputs": [
    {
     "name": "stdout",
     "output_type": "stream",
     "text": [
      "0.0094486983472692\n"
     ]
    }
   ],
   "source": [
    "def cohen_d(x,y):\n",
    "    nx = len(x)\n",
    "    ny = len(y)\n",
    "    dof = nx + ny - 2\n",
    "    return (np.mean(x) - np.mean(y)) / math.sqrt(((nx-1)*np.std(x, ddof=1) ** 2 + (ny-1)*np.std(y, ddof=1) ** 2) / dof)\n",
    "print(cohen_d(early, late))"
   ]
  },
  {
   "cell_type": "code",
   "execution_count": 173,
   "metadata": {},
   "outputs": [
    {
     "data": {
      "text/plain": [
       "3.0255541125681388e+16"
      ]
     },
     "execution_count": 173,
     "metadata": {},
     "output_type": "execute_result"
    }
   ],
   "source": [
    "# Power calculation is very high. Low chance of false negative\n",
    "from statsmodels.stats.power import TTestIndPower, TTestPower\n",
    "power_analysis = TTestIndPower()\n",
    "power_analysis.solve_power(t_val, alpha=.05, power=.8)"
   ]
  },
  {
   "cell_type": "markdown",
   "metadata": {},
   "source": [
    "# T is small, "
   ]
  },
  {
   "cell_type": "code",
   "execution_count": 174,
   "metadata": {},
   "outputs": [],
   "source": [
    "# What about really early classes? Before 8.\n",
    "df_early_class2 = df[df['start_time_hour'] >= 8]\n",
    "df_late_class2 = df[(df['start_time_hour'] < 8) ]"
   ]
  },
  {
   "cell_type": "code",
   "execution_count": 175,
   "metadata": {},
   "outputs": [
    {
     "data": {
      "text/plain": [
       "<matplotlib.legend.Legend at 0x1c43aa9320>"
      ]
     },
     "execution_count": 175,
     "metadata": {},
     "output_type": "execute_result"
    },
    {
     "data": {
      "image/png": "[encoded data removed]",
      "text/plain": [
       "<Figure size 432x288 with 1 Axes>"
      ]
     },
     "metadata": {
      "needs_background": "light"
     },
     "output_type": "display_data"
    }
   ],
   "source": [
    "#Larger classes have significantly lower grades than smaller classes. \n",
    "sns.distplot(df_early_class2['class_gpa'], color = 'blue', label=\"Early Classes\")\n",
    "sns.distplot(df_late_class2['class_gpa'], color = 'red', label=\"Late Classes\")\n",
    "plt.legend()"
   ]
  },
  {
   "cell_type": "code",
   "execution_count": 179,
   "metadata": {},
   "outputs": [
    {
     "data": {
      "text/plain": [
       "<matplotlib.axes._subplots.AxesSubplot at 0x1d0c171710>"
      ]
     },
     "execution_count": 179,
     "metadata": {},
     "output_type": "execute_result"
    },
    {
     "data": {
      "image/png": "[encoded data removed]",
      "text/plain": [
       "<Figure size 720x720 with 1 Axes>"
      ]
     },
     "metadata": {
      "needs_background": "light"
     },
     "output_type": "display_data"
    }
   ],
   "source": [
    "fig  = plt.figure(figsize=(10,10))\n",
    "early_samples = []\n",
    "late_samples = []\n",
    "for i in range(1000):\n",
    "    sample1 = df_early_class2.sample(300, replace=True)\n",
    "    sample1['sample_gpa'] = sample1['cum_grade']/sample1['enrollment']\n",
    "        \n",
    "    early_samples.append(sample1['sample_gpa'].mean())\n",
    "    \n",
    "    sample2 = df_late_class.sample(100, replace=True)\n",
    "    sample2['sample_gpa'] = sample2['cum_grade']/sample2['enrollment']\n",
    "    late_samples.append(sample2['sample_gpa'].mean())\n",
    "\n",
    "plt.title(\"Dsitribution of Means for Late vs. Early Classes (8 a.m.)\")\n",
    "sns.distplot(late_samples, color=\"blue\")\n",
    "sns.distplot(early_samples, color=\"red\")\n"
   ]
  },
  {
   "cell_type": "code",
   "execution_count": 100,
   "metadata": {},
   "outputs": [
    {
     "data": {
      "text/plain": [
       "Ttest_indResult(statistic=22.073150991016824, pvalue=3.106564524038498e-107)"
      ]
     },
     "execution_count": 100,
     "metadata": {},
     "output_type": "execute_result"
    }
   ],
   "source": [
    "ttest_ind(df_early_class2['class_gpa'], df_late_class2['class_gpa'], equal_var=False)"
   ]
  },
  {
   "cell_type": "code",
   "execution_count": 109,
   "metadata": {},
   "outputs": [],
   "source": [
    "def t_calc(x, y):\n",
    "    return (x.mean() - y.mean()) \\\n",
    "/  (len(x) *  np.std(x) + len(y) * np.std(y) \\\n",
    "/  (len(x)  +  len(y)  - 2))"
   ]
  },
  {
   "cell_type": "code",
   "execution_count": 114,
   "metadata": {
    "scrolled": true
   },
   "outputs": [
    {
     "data": {
      "text/plain": [
       "1.7646909434345086e-07"
      ]
     },
     "execution_count": 114,
     "metadata": {},
     "output_type": "execute_result"
    }
   ],
   "source": [
    "early = df_early_class2['class_gpa']\n",
    "late = df_late_class2['class_gpa']\n",
    "\n",
    "t_val = t_calc(early, late)\n",
    "t_val"
   ]
  },
  {
   "cell_type": "code",
   "execution_count": 116,
   "metadata": {},
   "outputs": [
    {
     "name": "stdout",
     "output_type": "stream",
     "text": [
      "-1.6448536269514729 -5.092733202690166\n"
     ]
    }
   ],
   "source": [
    "from scipy import stats\n",
    "df = 100 - 1\n",
    "\n",
    "norm_p = stats.norm.ppf(.05)\n",
    "\n",
    "norm_t = stats.norm.ppf(t_val)\n",
    "print(norm_p, norm_t)"
   ]
  },
  {
   "cell_type": "code",
   "execution_count": null,
   "metadata": {},
   "outputs": [],
   "source": []
  }
 ],
 "metadata": {
  "kernelspec": {
   "display_name": "Python 3",
   "language": "python",
   "name": "python3"
  },
  "language_info": {
   "codemirror_mode": {
    "name": "ipython",
    "version": 3
   },
   "file_extension": ".py",
   "mimetype": "text/x-python",
   "name": "python",
   "nbconvert_exporter": "python",
   "pygments_lexer": "ipython3",
   "version": "3.7.3"
  }
 },
 "nbformat": 4,
 "nbformat_minor": 2
}
